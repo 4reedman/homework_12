{
 "cells": [
  {
   "cell_type": "markdown",
   "metadata": {},
   "source": [
    "1. Write a decorator that ensures a function is only called by users with a specific role. Each function should have an user_type with a string type in kwargs. \n",
    "\n",
    "Напишите декоратор, обеспечивающий вызов функции только пользователями с определенной ролью. Каждая функция должна иметь user_type со строковым типом в kwargs.\n",
    "Example:\n",
    "@is_admin\n",
    "def show_customer_receipt(user_type: str):\n",
    "    # Some very dangerous operation\n",
    "\n",
    "show_customer_receipt(user_type='user')\n",
    "> ValueError: Permission denied\n",
    "\n",
    "show_customer_receipt(user_type='admin')\n",
    "> function pass as it should be"
   ]
  },
  {
   "cell_type": "code",
   "execution_count": 69,
   "metadata": {},
   "outputs": [
    {
     "name": "stdout",
     "output_type": "stream",
     "text": [
      "Your data was deleted\n"
     ]
    }
   ],
   "source": [
    "def is_admin(func):\n",
    "    def wrapper(**kwargs):\n",
    "        if kwargs.get('user_type') == 'admin':\n",
    "            return func(kwargs)\n",
    "        else:\n",
    "            raise ValueError('Permission denied')\n",
    "    return wrapper\n",
    "\n",
    "\n",
    "@is_admin\n",
    "def show_customer_receipt(user_type: str):\n",
    "    very_important_data = {'token': 'qwerty123'} #  бажано не створювати змінних, тільки в з метою навчання\n",
    "    very_important_data.clear()\n",
    "    return print('Your data was deleted')\n",
    "\n",
    "show_customer_receipt(user_type='admin')"
   ]
  },
  {
   "cell_type": "markdown",
   "metadata": {},
   "source": [
    "2. Write a decorator that wraps a function in a try-except block and prints an error if any type of error has happened. \n",
    "\n",
    "Напишите декоратор, который оборачивает функцию в блок try-except и выводит ошибку, если произошла ошибка любого типа\n",
    "Example:\n",
    "\n",
    "@catch_errors\n",
    "def some_function_with_risky_operation(data):\n",
    "    print(data['key'])\n",
    "\n",
    "\n",
    "some_function_with_risky_operation({'foo': 'bar'})\n",
    "#Found 1 error during execution of your function: KeyError no such key as foo\n",
    "\n",
    "some_function_with_risky_operation({'key': 'bar'})\n",
    "#bar\n"
   ]
  },
  {
   "cell_type": "code",
   "execution_count": 104,
   "metadata": {},
   "outputs": [
    {
     "name": "stdout",
     "output_type": "stream",
     "text": [
      "Found 1 error during execution of your function: division by zero\n"
     ]
    },
    {
     "data": {
      "text/plain": [
       "0.5"
      ]
     },
     "execution_count": 104,
     "metadata": {},
     "output_type": "execute_result"
    }
   ],
   "source": [
    "def catch_errors(func):\n",
    "    def wrapper(*args):\n",
    "        try:\n",
    "            return func(*args)\n",
    "        except Exception as be:\n",
    "            print(f'Found 1 error during execution of your function: {be}')      \n",
    "    return wrapper\n",
    "\n",
    "@catch_errors\n",
    "def some_function_with_risky_operation(a, b):\n",
    "    return a / b\n",
    "    \n",
    "\n",
    "some_function_with_risky_operation(1, 0)\n",
    "some_function_with_risky_operation(1, 2)"
   ]
  },
  {
   "cell_type": "markdown",
   "metadata": {},
   "source": [
    "Optional: Create a decorator that will check types. It should take a function with arguments and validate inputs with annotations. It should work for all possible functions. Don`t forget to check the return type as well\n",
    "\n",
    "Дополнительно: Создайте декоратор, который будет проверять типы. Он должен принимать функцию с аргументами и проверять входные данные с помощью аннотаций. Он должен работать для всех возможных функций. Не забудьте также проверить возвращаемый тип\n",
    "\n"
   ]
  },
  {
   "cell_type": "code",
   "execution_count": 53,
   "metadata": {},
   "outputs": [
    {
     "ename": "TypeError",
     "evalue": "Argument 'a' must be 'int'",
     "output_type": "error",
     "traceback": [
      "\u001b[0;31m---------------------------------------------------------------------------\u001b[0m",
      "\u001b[0;31mTypeError\u001b[0m                                 Traceback (most recent call last)",
      "Cell \u001b[0;32mIn[53], line 29\u001b[0m\n\u001b[1;32m     22\u001b[0m \u001b[39m@type_check_decorator\u001b[39m\n\u001b[1;32m     23\u001b[0m \u001b[39mdef\u001b[39;00m \u001b[39madd_numbers\u001b[39m(a: \u001b[39mint\u001b[39m, b: \u001b[39mint\u001b[39m) \u001b[39m-\u001b[39m\u001b[39m>\u001b[39m \u001b[39mint\u001b[39m:\n\u001b[1;32m     24\u001b[0m     \u001b[39mreturn\u001b[39;00m a \u001b[39m+\u001b[39m b\n\u001b[0;32m---> 29\u001b[0m \u001b[39mprint\u001b[39m(add_numbers(\u001b[39m'\u001b[39;49m\u001b[39m3\u001b[39;49m\u001b[39m'\u001b[39;49m, \u001b[39m\"\u001b[39;49m\u001b[39m4\u001b[39;49m\u001b[39m\"\u001b[39;49m)) \n",
      "Cell \u001b[0;32mIn[53], line 14\u001b[0m, in \u001b[0;36mtype_check_decorator.<locals>.wrapper\u001b[0;34m(*args, **kwargs)\u001b[0m\n\u001b[1;32m     12\u001b[0m         arg_index \u001b[39m=\u001b[39m \u001b[39mlist\u001b[39m(annnotation_dict\u001b[39m.\u001b[39mkeys())\u001b[39m.\u001b[39mindex(arg_name)\n\u001b[1;32m     13\u001b[0m         \u001b[39mif\u001b[39;00m arg_index \u001b[39m>\u001b[39m\u001b[39m=\u001b[39m \u001b[39mlen\u001b[39m(args) \u001b[39mor\u001b[39;00m \u001b[39mnot\u001b[39;00m \u001b[39misinstance\u001b[39m(args[arg_index], arg_type):\n\u001b[0;32m---> 14\u001b[0m             \u001b[39mraise\u001b[39;00m \u001b[39mTypeError\u001b[39;00m(\u001b[39mf\u001b[39m\u001b[39m\"\u001b[39m\u001b[39mArgument \u001b[39m\u001b[39m'\u001b[39m\u001b[39m{\u001b[39;00marg_name\u001b[39m}\u001b[39;00m\u001b[39m'\u001b[39m\u001b[39m must be \u001b[39m\u001b[39m'\u001b[39m\u001b[39m{\u001b[39;00marg_type\u001b[39m.\u001b[39m\u001b[39m__name__\u001b[39m\u001b[39m}\u001b[39;00m\u001b[39m'\u001b[39m\u001b[39m\"\u001b[39m)\n\u001b[1;32m     15\u001b[0m result \u001b[39m=\u001b[39m func(\u001b[39m*\u001b[39margs, \u001b[39m*\u001b[39m\u001b[39m*\u001b[39mkwargs)\n\u001b[1;32m     16\u001b[0m \u001b[39mif\u001b[39;00m \u001b[39m'\u001b[39m\u001b[39mreturn\u001b[39m\u001b[39m'\u001b[39m \u001b[39min\u001b[39;00m annnotation_dict \u001b[39mand\u001b[39;00m \u001b[39mnot\u001b[39;00m \u001b[39misinstance\u001b[39m(result, annnotation_dict[\u001b[39m'\u001b[39m\u001b[39mreturn\u001b[39m\u001b[39m'\u001b[39m]):\n",
      "\u001b[0;31mTypeError\u001b[0m: Argument 'a' must be 'int'"
     ]
    }
   ],
   "source": [
    "from functools import wraps\n",
    "\n",
    "def type_check_decorator(func):\n",
    "    @wraps(func)\n",
    "    def wrapper(*args, **kwargs):\n",
    "        annnotation_dict = func.__annotations__\n",
    "        for arg_name, arg_type in annnotation_dict.items():\n",
    "            if arg_name in kwargs:\n",
    "                if not isinstance(kwargs[arg_name], arg_type):\n",
    "                    raise TypeError(f\"Argument '{arg_name}' must be '{arg_type.__name__}'\")\n",
    "            elif arg_name in annnotation_dict:\n",
    "                arg_index = list(annnotation_dict.keys()).index(arg_name)\n",
    "                if arg_index >= len(args) or not isinstance(args[arg_index], arg_type):\n",
    "                    raise TypeError(f\"Argument '{arg_name}' must be '{arg_type.__name__}'\")\n",
    "        result = func(*args, **kwargs)\n",
    "        if 'return' in annnotation_dict and not isinstance(result, annnotation_dict['return']):\n",
    "            raise TypeError(f\"Return value must be '{annnotation_dict['return'].__name__}'\")\n",
    "        return result\n",
    "    return wrapper\n",
    "\n",
    "# Applying the decorator\n",
    "@type_check_decorator\n",
    "def add_numbers(a: int, b: int) -> int:\n",
    "    return a + b\n",
    "\n",
    "\n",
    "\n",
    "\n",
    "print(add_numbers(3, \"4\")) \n",
    "\n"
   ]
  },
  {
   "cell_type": "markdown",
   "metadata": {},
   "source": [
    "Optional: Create a function that caches the result of a function, so that if it is called with the same argument multiple times, it returns the cached result first instead of re-executing the function"
   ]
  },
  {
   "cell_type": "code",
   "execution_count": 41,
   "metadata": {},
   "outputs": [
    {
     "name": "stdout",
     "output_type": "stream",
     "text": [
      "second call\n",
      "10000000000\n"
     ]
    }
   ],
   "source": [
    "\n",
    "def cache_func_result(func):\n",
    "    result_dict = {} \n",
    "    def wrapper(*args):\n",
    "        if args in result_dict:\n",
    "            return result_dict[args]\n",
    "        else:\n",
    "            result = func(*args)\n",
    "            result_dict[args] = result\n",
    "            return result\n",
    "    return wrapper\n",
    "\n",
    "@cache_func_result\n",
    "def multiply_numbers(number): \n",
    "    return number * 1000000\n",
    "\n",
    "print(multiply_numbers(10000))   "
   ]
  },
  {
   "cell_type": "markdown",
   "metadata": {},
   "source": [
    "5. Optional: Write a decorator that adds a rate-limiter to a function, so that it can only be called a certain amount of times per minute\n",
    "Напишите декоратор, который добавляет ограничитель скорости к функции, чтобы она могла вызываться только определенное количество раз в минуту"
   ]
  },
  {
   "cell_type": "code",
   "execution_count": 21,
   "metadata": {},
   "outputs": [
    {
     "name": "stdout",
     "output_type": "stream",
     "text": [
      "doing something!\n",
      "doing something!\n",
      "doing something!\n",
      "doing something!\n",
      "doing something!\n",
      "Rate limit reached\n",
      "Rate limit reached\n",
      "Rate limit reached\n",
      "Rate limit reached\n",
      "Rate limit reached\n"
     ]
    }
   ],
   "source": [
    "import time\n",
    "from functools import wraps\n",
    "\n",
    "def limit_func_calls(limit, seconds_interval):\n",
    "    def wrapper_1(func):\n",
    "        last_call = [0]\n",
    "        calls_in_seconds = [0]\n",
    "        @wraps(func)\n",
    "        def wrapper_2(*args, **kwargs):\n",
    "            current_time = time.time() # поточний час\n",
    "            if current_time - last_call[0] >= seconds_interval: # Обнуляємо перемінну-лічильник calls_in_interval якщо з моменту останнього \n",
    "                                                                #виклику пройшов заданний інтервал часу\n",
    "                calls_in_seconds[0] = 0\n",
    "                last_call[0] = current_time\n",
    "            if calls_in_seconds[0] < limit: # якщо не досягнуто ліміту викликів то викликаємо функцію та +1 до  calls_in_seconds\n",
    "                calls_in_seconds[0] += 1\n",
    "                return func(*args, **kwargs)\n",
    "            else:\n",
    "                print(\"Rate limit reached\")       \n",
    "        return wrapper_2  \n",
    "    return wrapper_1\n",
    "\n",
    "\n",
    "@limit_func_calls(5, 60)\n",
    "def printing():\n",
    "    print('doing something!')\n",
    "\n",
    "\n",
    "for _ in range(10):\n",
    "    printing()\n"
   ]
  },
  {
   "cell_type": "code",
   "execution_count": 48,
   "metadata": {},
   "outputs": [
    {
     "name": "stdout",
     "output_type": "stream",
     "text": [
      "Type error: Argument 'return' should be of type 'int'\n"
     ]
    }
   ],
   "source": [
    "\n"
   ]
  }
 ],
 "metadata": {
  "kernelspec": {
   "display_name": "base",
   "language": "python",
   "name": "python3"
  },
  "language_info": {
   "codemirror_mode": {
    "name": "ipython",
    "version": 3
   },
   "file_extension": ".py",
   "mimetype": "text/x-python",
   "name": "python",
   "nbconvert_exporter": "python",
   "pygments_lexer": "ipython3",
   "version": "3.10.12"
  },
  "orig_nbformat": 4
 },
 "nbformat": 4,
 "nbformat_minor": 2
}
